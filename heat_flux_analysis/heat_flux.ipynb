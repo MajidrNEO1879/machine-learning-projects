{
 "cells": [
  {
   "cell_type": "markdown",
   "id": "9ba2d65b",
   "metadata": {},
   "source": [
    "### context\n",
    "This dataset was prepared for the journal article entitled \"On the prediction of critical heat flux using a physics-informed machine learning-aided framework\" (doi: 10.1016/j.applthermaleng.2019.114540). The dataset contains processed and compiled records of experimental critical heat flux and boundary conditions used for the work presented in the article. "
   ]
  },
  {
   "cell_type": "code",
   "execution_count": 3,
   "id": "67dba527",
   "metadata": {},
   "outputs": [],
   "source": [
    "import pandas as pd\n",
    "import numpy as np\n",
    "import matplotlib.pyplot as plt\n",
    "from sklearn.model_selection import train_test_split\n",
    "from sklearn.model_selection import cross_val_score\n",
    "from sklearn.linear_model import LinearRegression\n",
    "from sklearn.preprocessing import StandardScaler\n",
    "from sklearn.pipeline import Pipeline\n",
    "from sklearn.inspection import permutation_importance\n",
    "from sklearn.feature_selection import mutual_info_regression\n",
    "from sklearn.metrics import r2_score, mean_absolute_error"
   ]
  },
  {
   "cell_type": "code",
   "execution_count": 6,
   "id": "3a00235d",
   "metadata": {},
   "outputs": [],
   "source": [
    "df = pd.read_csv('./data/Data_CHF_Zhao_2020_ATE.csv')"
   ]
  },
  {
   "cell_type": "code",
   "execution_count": 7,
   "id": "f2d6fa55",
   "metadata": {},
   "outputs": [
    {
     "data": {
      "text/html": [
       "<div>\n",
       "<style scoped>\n",
       "    .dataframe tbody tr th:only-of-type {\n",
       "        vertical-align: middle;\n",
       "    }\n",
       "\n",
       "    .dataframe tbody tr th {\n",
       "        vertical-align: top;\n",
       "    }\n",
       "\n",
       "    .dataframe thead th {\n",
       "        text-align: right;\n",
       "    }\n",
       "</style>\n",
       "<table border=\"1\" class=\"dataframe\">\n",
       "  <thead>\n",
       "    <tr style=\"text-align: right;\">\n",
       "      <th></th>\n",
       "      <th>id</th>\n",
       "      <th>author</th>\n",
       "      <th>geometry</th>\n",
       "      <th>pressure [MPa]</th>\n",
       "      <th>mass_flux [kg/m2-s]</th>\n",
       "      <th>x_e_out [-]</th>\n",
       "      <th>D_e [mm]</th>\n",
       "      <th>D_h [mm]</th>\n",
       "      <th>length [mm]</th>\n",
       "      <th>chf_exp [MW/m2]</th>\n",
       "    </tr>\n",
       "  </thead>\n",
       "  <tbody>\n",
       "    <tr>\n",
       "      <th>0</th>\n",
       "      <td>1</td>\n",
       "      <td>Inasaka</td>\n",
       "      <td>tube</td>\n",
       "      <td>0.39</td>\n",
       "      <td>5600</td>\n",
       "      <td>-0.1041</td>\n",
       "      <td>3.0</td>\n",
       "      <td>3.0</td>\n",
       "      <td>100</td>\n",
       "      <td>11.3</td>\n",
       "    </tr>\n",
       "    <tr>\n",
       "      <th>1</th>\n",
       "      <td>2</td>\n",
       "      <td>Inasaka</td>\n",
       "      <td>tube</td>\n",
       "      <td>0.31</td>\n",
       "      <td>6700</td>\n",
       "      <td>-0.0596</td>\n",
       "      <td>3.0</td>\n",
       "      <td>3.0</td>\n",
       "      <td>100</td>\n",
       "      <td>10.6</td>\n",
       "    </tr>\n",
       "    <tr>\n",
       "      <th>2</th>\n",
       "      <td>3</td>\n",
       "      <td>Inasaka</td>\n",
       "      <td>tube</td>\n",
       "      <td>0.33</td>\n",
       "      <td>4300</td>\n",
       "      <td>-0.0395</td>\n",
       "      <td>3.0</td>\n",
       "      <td>3.0</td>\n",
       "      <td>100</td>\n",
       "      <td>7.3</td>\n",
       "    </tr>\n",
       "    <tr>\n",
       "      <th>3</th>\n",
       "      <td>4</td>\n",
       "      <td>Inasaka</td>\n",
       "      <td>tube</td>\n",
       "      <td>0.62</td>\n",
       "      <td>6400</td>\n",
       "      <td>-0.1460</td>\n",
       "      <td>3.0</td>\n",
       "      <td>3.0</td>\n",
       "      <td>100</td>\n",
       "      <td>12.8</td>\n",
       "    </tr>\n",
       "    <tr>\n",
       "      <th>4</th>\n",
       "      <td>5</td>\n",
       "      <td>Inasaka</td>\n",
       "      <td>tube</td>\n",
       "      <td>0.64</td>\n",
       "      <td>4700</td>\n",
       "      <td>-0.0849</td>\n",
       "      <td>3.0</td>\n",
       "      <td>3.0</td>\n",
       "      <td>100</td>\n",
       "      <td>11.0</td>\n",
       "    </tr>\n",
       "  </tbody>\n",
       "</table>\n",
       "</div>"
      ],
      "text/plain": [
       "   id   author geometry  pressure [MPa]  mass_flux [kg/m2-s]  x_e_out [-]  \\\n",
       "0   1  Inasaka     tube            0.39                 5600      -0.1041   \n",
       "1   2  Inasaka     tube            0.31                 6700      -0.0596   \n",
       "2   3  Inasaka     tube            0.33                 4300      -0.0395   \n",
       "3   4  Inasaka     tube            0.62                 6400      -0.1460   \n",
       "4   5  Inasaka     tube            0.64                 4700      -0.0849   \n",
       "\n",
       "   D_e [mm]  D_h [mm]  length [mm]  chf_exp [MW/m2]  \n",
       "0       3.0       3.0          100             11.3  \n",
       "1       3.0       3.0          100             10.6  \n",
       "2       3.0       3.0          100              7.3  \n",
       "3       3.0       3.0          100             12.8  \n",
       "4       3.0       3.0          100             11.0  "
      ]
     },
     "execution_count": 7,
     "metadata": {},
     "output_type": "execute_result"
    }
   ],
   "source": [
    "df.head()"
   ]
  },
  {
   "cell_type": "code",
   "execution_count": 8,
   "id": "d2d19b2c",
   "metadata": {},
   "outputs": [
    {
     "name": "stdout",
     "output_type": "stream",
     "text": [
      "<class 'pandas.core.frame.DataFrame'>\n",
      "RangeIndex: 1865 entries, 0 to 1864\n",
      "Data columns (total 10 columns):\n",
      " #   Column               Non-Null Count  Dtype  \n",
      "---  ------               --------------  -----  \n",
      " 0   id                   1865 non-null   int64  \n",
      " 1   author               1865 non-null   object \n",
      " 2   geometry             1865 non-null   object \n",
      " 3   pressure [MPa]       1865 non-null   float64\n",
      " 4   mass_flux [kg/m2-s]  1865 non-null   int64  \n",
      " 5   x_e_out [-]          1865 non-null   float64\n",
      " 6   D_e [mm]             1865 non-null   float64\n",
      " 7   D_h [mm]             1865 non-null   float64\n",
      " 8   length [mm]          1865 non-null   int64  \n",
      " 9   chf_exp [MW/m2]      1865 non-null   float64\n",
      "dtypes: float64(5), int64(3), object(2)\n",
      "memory usage: 145.8+ KB\n"
     ]
    }
   ],
   "source": [
    "df.info()"
   ]
  },
  {
   "cell_type": "code",
   "execution_count": null,
   "id": "c9ad2ac0",
   "metadata": {},
   "outputs": [],
   "source": []
  }
 ],
 "metadata": {
  "kernelspec": {
   "display_name": "machine-learning-projects",
   "language": "python",
   "name": "python3"
  },
  "language_info": {
   "codemirror_mode": {
    "name": "ipython",
    "version": 3
   },
   "file_extension": ".py",
   "mimetype": "text/x-python",
   "name": "python",
   "nbconvert_exporter": "python",
   "pygments_lexer": "ipython3",
   "version": "3.11.7"
  }
 },
 "nbformat": 4,
 "nbformat_minor": 5
}
